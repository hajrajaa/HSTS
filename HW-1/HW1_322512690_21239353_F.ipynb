{
  "cells": [
    {
      "cell_type": "markdown",
      "metadata": {
        "id": "view-in-github",
        "colab_type": "text"
      },
      "source": [
        "<a href=\"https://colab.research.google.com/github/hajrajaa/HSTS/blob/master/HW-1/HW1_322512690_21239353_F.ipynb\" target=\"_parent\"><img src=\"https://colab.research.google.com/assets/colab-badge.svg\" alt=\"Open In Colab\"/></a>"
      ]
    },
    {
      "cell_type": "markdown",
      "metadata": {
        "id": "25F1OYDCx8i7"
      },
      "source": [
        "# Homework 1 - Deep Learning Winter 2024\n",
        "\n",
        "Student 1: Rajaa Haj 322512690\n",
        "\n",
        "Student 2: Aseel Shaheen 212393532\n",
        "\n"
      ]
    },
    {
      "cell_type": "code",
      "source": [
        "from google.colab import drive\n",
        "drive.mount('/content/drive', force_remount=True)"
      ],
      "metadata": {
        "colab": {
          "base_uri": "https://localhost:8080/"
        },
        "id": "Yvf3YQLXtnnQ",
        "outputId": "c02a0b26-c7b4-4946-919b-6801381f3ab1"
      },
      "execution_count": null,
      "outputs": [
        {
          "output_type": "stream",
          "name": "stdout",
          "text": [
            "Mounted at /content/drive\n"
          ]
        }
      ]
    },
    {
      "cell_type": "code",
      "execution_count": null,
      "metadata": {
        "vscode": {
          "languageId": "plaintext"
        },
        "id": "XrtvebehqdmS"
      },
      "outputs": [],
      "source": [
        "import torch\n",
        "import torch.nn as nn\n",
        "import torch.optim as optim\n",
        "import matplotlib.pyplot as plt\n",
        "from sklearn.datasets import make_moons\n",
        "from sklearn.model_selection import train_test_split\n",
        "from sklearn.preprocessing import StandardScaler\n"
      ]
    },
    {
      "cell_type": "markdown",
      "source": [
        "#**Part 1 : Binary Classification**"
      ],
      "metadata": {
        "id": "4k81Y4-J7Evi"
      }
    },
    {
      "cell_type": "markdown",
      "source": [
        "#Loading the Data"
      ],
      "metadata": {
        "id": "yqx1z9kq5evB"
      }
    },
    {
      "cell_type": "code",
      "source": [
        "import pandas as pd\n",
        "\n",
        "# Define the paths to your datasets\n",
        "train_path = '/content/drive/MyDrive/HW-1/part1_train.csv'\n",
        "test_path = '/content/drive/MyDrive/HW-1/part1_test.csv'\n",
        "\n",
        "# Load the datasets\n",
        "train_data = pd.read_csv(train_path)\n",
        "test_data = pd.read_csv(test_path)\n",
        "\n",
        "# Display the 10 samples fron the datasets\n",
        "print(\"samples from the Training Data:\\n\")\n",
        "print(train_data.head(n=10))\n",
        "print(\"\\n\")\n",
        "print(\"Samples from the Test Data:\\n\")\n",
        "print(test_data.head(n=10))\n"
      ],
      "metadata": {
        "id": "URTNAEZaq-dF"
      },
      "execution_count": null,
      "outputs": []
    },
    {
      "cell_type": "markdown",
      "source": [
        "#**Preprocessing the data :**\n",
        "In order to scale the data we need first to covnert non-numerical values into numerical represtnation. so what we do is we apply one-hot encoding in order to represnt them."
      ],
      "metadata": {
        "id": "z1zK_O8J3wfq"
      }
    },
    {
      "cell_type": "code",
      "source": [
        "\n",
        "# Identify categorical columns that exist in both train and test datasets\n",
        "categorical_columns = list(set(train_data.select_dtypes(include=['object']).columns) &\n",
        "                           set(test_data.select_dtypes(include=['object']).columns))\n",
        "\n",
        "# Extract target variable before encoding (assuming last column is the target)\n",
        "y_train = train_data.iloc[:, -1]\n",
        "y_test = test_data.iloc[:, -1]\n",
        "\n",
        "#need to remove the '.' in order to make the data clear and now convert it to numerical.\n",
        "y_test = test_data.iloc[:, -1].str.strip().str.replace('.', '', regex=False)\n",
        "# Strip whitespace from target column values\n",
        "y_train = y_train.str.strip()\n",
        "y_test = y_test.str.strip()\n",
        "\n",
        "\n",
        "# Define the mapping for target values\n",
        "label_mapping = {\"<=50K\": 0, \">50K\": 1}\n",
        "\n",
        "# Apply the mappingt\n",
        "y_train = y_train.map(label_mapping)\n",
        "y_test = y_test.map(label_mapping)\n",
        "\n",
        "\n",
        "# Apply one-hot encoding separately (for training and test (without target))\n",
        "train_data_encoded = pd.get_dummies(train_data, columns=categorical_columns)\n",
        "test_data_encoded = pd.get_dummies(test_data, columns=categorical_columns)\n",
        "\n",
        "# Align columns between train and test datasets to handle mismatched categories\n",
        "train_data_aligned, test_data_aligned = train_data_encoded.align(test_data_encoded, join='inner', axis=1)\n"
      ],
      "metadata": {
        "id": "lI6XFpT0H3J7",
        "outputId": "c0705068-0e60-4a46-ea15-ba1199ee46d8",
        "colab": {
          "base_uri": "https://localhost:8080/"
        }
      },
      "execution_count": null,
      "outputs": [
        {
          "output_type": "stream",
          "name": "stdout",
          "text": [
            "52\n"
          ]
        }
      ]
    },
    {
      "cell_type": "markdown",
      "source": [
        "# **Exctract features and exclude the target for training and test and scaling the data using the StandardScaler.**"
      ],
      "metadata": {
        "id": "6FyUuWBvIhmB"
      }
    },
    {
      "cell_type": "code",
      "source": [
        "\n",
        "# Extract features (after alignment)\n",
        "X_train = train_data_aligned.drop(columns=train_data_aligned.columns[-1])  # Drop target column\n",
        "X_test = test_data_aligned.drop(columns=test_data_aligned.columns[-1])    # Drop target column\n",
        "\n",
        "# Normalize the features\n",
        "scaler = StandardScaler()\n",
        "X_train = scaler.fit_transform(X_train)\n",
        "X_test = scaler.transform(X_test)\n",
        "\n",
        "# # Print shapes to verify\n",
        "# print(\"X_train_scaled shape:\", X_train_scaled.shape)\n",
        "# print(\"X_test_scaled shape:\", X_test_scaled.shape)\n",
        "# print(\"y_train shape:\", y_train.shape)\n",
        "# print(\"y_test shape:\", y_test.shape)\n"
      ],
      "metadata": {
        "id": "IUNYU4lMBVFI"
      },
      "execution_count": null,
      "outputs": []
    },
    {
      "cell_type": "code",
      "source": [
        "# Convert data to PyTorch tensors\n",
        "\n",
        "X_train = torch.tensor(X_train, dtype=torch.float32)\n",
        "X_test = torch.tensor(X_test, dtype=torch.float32)\n",
        "y_train = torch.tensor(y_train, dtype=torch.long)\n",
        "y_test = torch.tensor(y_test, dtype=torch.long)"
      ],
      "metadata": {
        "id": "CK3lUUZ48raq"
      },
      "execution_count": null,
      "outputs": []
    },
    {
      "cell_type": "markdown",
      "source": [
        "Now we Print the distribution of yearly income for the individuals and the\n",
        "percentage of them more / less than 50k/year"
      ],
      "metadata": {
        "id": "KMdhDaJRbeM9"
      }
    },
    {
      "cell_type": "code",
      "source": [
        "# Compute distribution for y_train\n",
        "unique, counts = torch.unique(y_train, return_counts=True)\n",
        "\n",
        "# Print the distribution\n",
        "print(\"Income Distribution in Training Data:\")\n",
        "for value, count in zip(unique, counts):\n",
        "    label = \"<=50K\" if value.item() == 0 else \">50K\"\n",
        "    print(f\"{label}: {count.item()}\")\n",
        "\n",
        "# Compute percentages\n",
        "total = counts.sum().item()\n",
        "percentages = (counts.float() / total) * 100\n",
        "\n",
        "# Print the percentages\n",
        "print(\"\\nIncome Percentage in Training Data:\")\n",
        "for value, percent in zip(unique, percentages):\n",
        "    label = \"<=50K\" if value.item() == 0 else \">50K\"\n",
        "    print(f\"{label}: {percent.item():.2f}%\")\n"
      ],
      "metadata": {
        "colab": {
          "base_uri": "https://localhost:8080/"
        },
        "id": "SdtFn6OSeKBN",
        "outputId": "e1231c74-fcd5-49c4-f7a3-3a33e8fe0e92"
      },
      "execution_count": null,
      "outputs": [
        {
          "output_type": "stream",
          "name": "stdout",
          "text": [
            "Income Distribution in Training Data:\n",
            "<=50K: 24719\n",
            ">50K: 7841\n",
            "\n",
            "Income Percentage in Training Data:\n",
            "<=50K: 75.92%\n",
            ">50K: 24.08%\n"
          ]
        }
      ]
    },
    {
      "cell_type": "markdown",
      "source": [
        "# Define the model"
      ],
      "metadata": {
        "id": "pfLT6P3a4bfu"
      }
    },
    {
      "cell_type": "code",
      "source": [
        "import torch.nn as nn\n",
        "import torch.nn.functional as F\n",
        "\n",
        "class FeedForwardNN(nn.Module):\n",
        "    def __init__(self, input_size):\n",
        "        super(FeedForwardNN, self).__init__()\n",
        "        self.fc1 = nn.Linear(input_size, 64)  # Hidden layer 1\n",
        "        self.dropout1 = nn.Dropout(p=0.2)    # Dropout for regularization\n",
        "        self.fc2 = nn.Linear(64, 32)         # Hidden layer 2\n",
        "        self.dropout2 = nn.Dropout(p=0.2)\n",
        "        self.fc3 = nn.Linear(32, 2)          # Output layer\n",
        "\n",
        "    def forward(self, x):\n",
        "        x = F.relu(self.fc1(x))  # Activation function for first layer\n",
        "        x = F.relu(self.fc2(x))  # Activation function for second layer\n",
        "        x = self.fc3(x)          # No activation for output layer (raw scores)\n",
        "        return x\n"
      ],
      "metadata": {
        "id": "5EhrkfBnhQXH"
      },
      "execution_count": null,
      "outputs": []
    },
    {
      "cell_type": "code",
      "source": [
        "from torch.utils.data import TensorDataset, DataLoader\n",
        "\n",
        "# Input size is the number of features (but its gone to 51 due to one-code being applied which increased it)\n",
        "input_size = X_train.shape[1]\n",
        "\n",
        "# Define the model and hyperamreters\n",
        "model = FeedForwardNN(input_size)\n",
        "learning_rate = 0.01\n",
        "epochs = 20\n",
        "batch_size = 32\n",
        "\n",
        "\n",
        "# Define loss function and optimizer\n",
        "criterion = nn.CrossEntropyLoss()\n",
        "optimizer = optim.Adam(model.parameters(), lr=learning_rate)\n",
        "\n",
        "# Training loop\n",
        "#we make each epoch to go on the batch size and not the entire data\n",
        "train_dataset = TensorDataset(X_train, y_train)\n",
        "train_loader = DataLoader(train_dataset, batch_size=batch_size, shuffle=True)\n",
        "\n",
        "for epoch in range(epochs):\n",
        "    model.train()\n",
        "    running_loss = 0.0\n",
        "\n",
        "    for X_batch, y_batch in train_loader:\n",
        "        outputs = model(X_batch)\n",
        "        loss = criterion(outputs, y_batch)\n",
        "        optimizer.zero_grad()\n",
        "        loss.backward()\n",
        "        optimizer.step()\n",
        "        running_loss += loss.item()\n",
        "\n",
        "    print(f\"Epoch {epoch+1}/{epochs}, Loss: {running_loss/len(train_loader):.4f}\")\n",
        "\n",
        "# Evaluation\n",
        "model.eval()\n",
        "with torch.no_grad():\n",
        "    test_outputs = model(X_test)\n",
        "    _, test_predictions = torch.max(test_outputs, 1)\n",
        "\n",
        "accuracy = (test_predictions == y_test).sum().item() / y_test.size(0)\n",
        "print(f\"Test Accuracy: {accuracy * 100:.2f}%\")\n",
        "\n",
        "\n"
      ],
      "metadata": {
        "id": "78JhO280hakQ",
        "outputId": "f1d67561-19b8-4606-84dc-1a9540105f38",
        "colab": {
          "base_uri": "https://localhost:8080/"
        }
      },
      "execution_count": null,
      "outputs": [
        {
          "output_type": "stream",
          "name": "stdout",
          "text": [
            "Epoch 1/20, Loss: 0.4348\n",
            "Epoch 2/20, Loss: 0.4259\n",
            "Epoch 3/20, Loss: 0.4256\n",
            "Epoch 4/20, Loss: 0.4232\n",
            "Epoch 5/20, Loss: 0.4221\n",
            "Epoch 6/20, Loss: 0.4212\n",
            "Epoch 7/20, Loss: 0.4223\n",
            "Epoch 8/20, Loss: 0.4234\n",
            "Epoch 9/20, Loss: 0.4225\n",
            "Epoch 10/20, Loss: 0.4216\n",
            "Epoch 11/20, Loss: 0.4214\n",
            "Epoch 12/20, Loss: 0.4202\n",
            "Epoch 13/20, Loss: 0.4202\n",
            "Epoch 14/20, Loss: 0.4219\n",
            "Epoch 15/20, Loss: 0.4200\n",
            "Epoch 16/20, Loss: 0.4196\n",
            "Epoch 17/20, Loss: 0.4193\n",
            "Epoch 18/20, Loss: 0.4204\n",
            "Epoch 19/20, Loss: 0.4197\n",
            "Epoch 20/20, Loss: 0.4186\n",
            "Test Accuracy: 80.15%\n"
          ]
        }
      ]
    },
    {
      "cell_type": "markdown",
      "source": [
        "# **Part 2 : Multi Class Classification**"
      ],
      "metadata": {
        "id": "qj3jIrsf4ZC1"
      }
    },
    {
      "cell_type": "code",
      "source": [
        "import torch\n",
        "from torchvision import datasets, transforms\n",
        "from torch.utils.data import DataLoader, random_split"
      ],
      "metadata": {
        "id": "4rVxHfIu4cMw"
      },
      "execution_count": null,
      "outputs": []
    },
    {
      "cell_type": "markdown",
      "source": [
        "Downloading the data and spliting the training and test"
      ],
      "metadata": {
        "id": "SYk_sn2o7FJs"
      }
    },
    {
      "cell_type": "code",
      "source": [
        "# Define transformations for preprocessing\n",
        "transform = transforms.Compose([\n",
        "    transforms.ToTensor(),  # Convert images to PyTorch tensors\n",
        "    transforms.Normalize((0.5,), (0.5,))  # Normalize pixel values to [-1, 1]\n",
        "])\n",
        "\n",
        "# Download and load the FashionMNIST dataset\n",
        "train_data = datasets.FashionMNIST(root='./data', train=True, download=True, transform=transform)\n",
        "test_data = datasets.FashionMNIST(root='./data', train=False, download=True, transform=transform)\n",
        "\n",
        "# Split training data into training and validation sets\n",
        "train_size = int(0.8 * len(train_data))  # 80% for training\n",
        "val_size = len(train_data) - train_size  # 20% for validation\n",
        "train_dataset, val_dataset = random_split(train_data, [train_size, val_size])\n"
      ],
      "metadata": {
        "collapsed": true,
        "id": "qxrI1uW-4erK",
        "outputId": "a6b7f6de-7341-4c91-c402-9d6c3cd75f66",
        "colab": {
          "base_uri": "https://localhost:8080/"
        }
      },
      "execution_count": null,
      "outputs": [
        {
          "output_type": "stream",
          "name": "stdout",
          "text": [
            "Downloading http://fashion-mnist.s3-website.eu-central-1.amazonaws.com/train-images-idx3-ubyte.gz\n",
            "Downloading http://fashion-mnist.s3-website.eu-central-1.amazonaws.com/train-images-idx3-ubyte.gz to ./data/FashionMNIST/raw/train-images-idx3-ubyte.gz\n"
          ]
        },
        {
          "output_type": "stream",
          "name": "stderr",
          "text": [
            "100%|██████████| 26.4M/26.4M [00:01<00:00, 14.0MB/s]\n"
          ]
        },
        {
          "output_type": "stream",
          "name": "stdout",
          "text": [
            "Extracting ./data/FashionMNIST/raw/train-images-idx3-ubyte.gz to ./data/FashionMNIST/raw\n",
            "\n",
            "Downloading http://fashion-mnist.s3-website.eu-central-1.amazonaws.com/train-labels-idx1-ubyte.gz\n",
            "Downloading http://fashion-mnist.s3-website.eu-central-1.amazonaws.com/train-labels-idx1-ubyte.gz to ./data/FashionMNIST/raw/train-labels-idx1-ubyte.gz\n"
          ]
        },
        {
          "output_type": "stream",
          "name": "stderr",
          "text": [
            "100%|██████████| 29.5k/29.5k [00:00<00:00, 227kB/s]\n"
          ]
        },
        {
          "output_type": "stream",
          "name": "stdout",
          "text": [
            "Extracting ./data/FashionMNIST/raw/train-labels-idx1-ubyte.gz to ./data/FashionMNIST/raw\n",
            "\n",
            "Downloading http://fashion-mnist.s3-website.eu-central-1.amazonaws.com/t10k-images-idx3-ubyte.gz\n",
            "Downloading http://fashion-mnist.s3-website.eu-central-1.amazonaws.com/t10k-images-idx3-ubyte.gz to ./data/FashionMNIST/raw/t10k-images-idx3-ubyte.gz\n"
          ]
        },
        {
          "output_type": "stream",
          "name": "stderr",
          "text": [
            "100%|██████████| 4.42M/4.42M [00:02<00:00, 1.69MB/s]\n"
          ]
        },
        {
          "output_type": "stream",
          "name": "stdout",
          "text": [
            "Extracting ./data/FashionMNIST/raw/t10k-images-idx3-ubyte.gz to ./data/FashionMNIST/raw\n",
            "\n",
            "Downloading http://fashion-mnist.s3-website.eu-central-1.amazonaws.com/t10k-labels-idx1-ubyte.gz\n",
            "Downloading http://fashion-mnist.s3-website.eu-central-1.amazonaws.com/t10k-labels-idx1-ubyte.gz to ./data/FashionMNIST/raw/t10k-labels-idx1-ubyte.gz\n"
          ]
        },
        {
          "output_type": "stream",
          "name": "stderr",
          "text": [
            "100%|██████████| 5.15k/5.15k [00:00<00:00, 14.2MB/s]\n"
          ]
        },
        {
          "output_type": "stream",
          "name": "stdout",
          "text": [
            "Extracting ./data/FashionMNIST/raw/t10k-labels-idx1-ubyte.gz to ./data/FashionMNIST/raw\n",
            "\n"
          ]
        }
      ]
    },
    {
      "cell_type": "markdown",
      "source": [
        "**We will Create the Batch sizes in this Cell.**"
      ],
      "metadata": {
        "id": "iTou6O158tUx"
      }
    },
    {
      "cell_type": "code",
      "source": [
        "# Create data loaders\n",
        "\n",
        "from torch.utils.data import Subset\n",
        "\n",
        "def filter_dataset(dataset, allowed_labels):\n",
        "    indices = [i for i, (_, label) in enumerate(dataset) if label in allowed_labels]\n",
        "    return Subset(dataset, indices)\n",
        "\n",
        "batch_size = 64\n",
        "train_loader = DataLoader(train_dataset, batch_size=batch_size, shuffle=True)\n",
        "val_loader = DataLoader(val_dataset, batch_size=batch_size, shuffle=False)\n",
        "test_loader = DataLoader(test_data, batch_size=batch_size, shuffle=False)\n",
        "\n",
        "\n",
        "# Filter training and validation datasets for Network 1 (first 4 categories)\n",
        "allowed_labels = [0, 1, 2, 3]\n",
        "train_dataset_1 = filter_dataset(train_dataset, allowed_labels)\n",
        "val_dataset_1 = filter_dataset(val_dataset, allowed_labels)\n",
        "test_dataset_1 = filter_dataset(test_data, allowed_labels)\n",
        "\n",
        "# Create DataLoaders for Network 1\n",
        "train_loader_1 = DataLoader(train_dataset_1, batch_size=batch_size, shuffle=True)\n",
        "val_loader_1 = DataLoader(val_dataset_1, batch_size=batch_size, shuffle=False)\n",
        "test_loader_1 = DataLoader(test_dataset_1, batch_size=batch_size, shuffle=False)\n",
        "\n",
        "\n",
        "\n",
        "\n"
      ],
      "metadata": {
        "id": "w4QLX0Yr7cTX"
      },
      "execution_count": null,
      "outputs": []
    },
    {
      "cell_type": "markdown",
      "source": [
        "#**Define the Model:**"
      ],
      "metadata": {
        "id": "pU_yQFac7l-_"
      }
    },
    {
      "cell_type": "markdown",
      "source": [
        "# The first feed forward netwoek : Netwrok 1\n",
        "Creating the First NN1. Since its parameters shouldnt pass 50k, our network will be : <br>\n",
        "input size= 784 since flatteing (28X28) img to vector to output 60. <br>\n",
        "parameters for  first layer is : input (60) and output 4 .<br>\n",
        " which the Total parameters will be (784X60)+ 60 (bias) + (60X4) + 4 (bias)  <=50k"
      ],
      "metadata": {
        "id": "Xyi8JDfF9xC7"
      }
    },
    {
      "cell_type": "code",
      "source": [
        "\n",
        "class Network1(nn.Module):\n",
        "    def __init__(self):\n",
        "        super(Network1, self).__init__()\n",
        "        self.fc1 = nn.Linear(784, 60)  # First layer: 784 → 60\n",
        "        self.fc2 = nn.Linear(60, 4)   # Second layer: 60 → 4\n",
        "\n",
        "    def forward(self, x):\n",
        "        x = x.view(x.size(0), -1)  # Flatten 28x28 images into 1D vector\n",
        "        x = torch.relu(self.fc1(x))\n",
        "        x = self.fc2(x)  # Output\n",
        "        return x\n"
      ],
      "metadata": {
        "id": "XO4UGdCl81qC"
      },
      "execution_count": null,
      "outputs": []
    },
    {
      "cell_type": "markdown",
      "source": [
        "# The secound feed forward Network : Network 2\n",
        "\n",
        "Defining NN2   Since its parameters shouldnt pass 60k, our network will be :\n",
        "input size= 784 since flatteing (28X28) img to vector to output (80):.\n",
        "parameters for first layer is : input (80) and output (40) .<br>\n",
        "second Layer: input (40) to output (20)\n",
        "third Layer : input (20) to output (10) .\n",
        "which the Total parameters will be 62,720+3,240+820+210=66,990"
      ],
      "metadata": {
        "id": "ifvS248IAlIt"
      }
    },
    {
      "cell_type": "code",
      "source": [
        "class Network2(nn.Module):\n",
        "    def __init__(self):\n",
        "        super(Network2, self).__init__()\n",
        "        self.fc1 = nn.Linear(784, 60)  # First layer: 784 → 80\n",
        "        self.fc2 = nn.Linear(60, 40)  # Second layer: 80 → 40\n",
        "        self.fc3 = nn.Linear(40, 20)  # Third layer: 40 → 20\n",
        "        self.fc4 = nn.Linear(20, 10)  # Fourth layer: 20 → 10\n",
        "\n",
        "    def forward(self, x):\n",
        "        x = x.view(x.size(0), -1)  # Flatten 28x28 images into 1D vector\n",
        "        x = torch.relu(self.fc1(x))\n",
        "        x = torch.relu(self.fc2(x))\n",
        "        x = torch.relu(self.fc3(x))\n",
        "        x = self.fc4(x)  # Output\n",
        "        return x\n"
      ],
      "metadata": {
        "id": "QUHpHvif-Djn"
      },
      "execution_count": null,
      "outputs": []
    },
    {
      "cell_type": "markdown",
      "source": [
        "# Training the model:"
      ],
      "metadata": {
        "id": "TYJAg-ivEH0g"
      }
    },
    {
      "cell_type": "code",
      "source": [
        "def train_model(model, train_loader, val_loader, optimizer, criterion, epochs):\n",
        "    # Store metrics\n",
        "    train_loss = []\n",
        "    val_loss = []\n",
        "    train_acc = []\n",
        "    val_acc = []\n",
        "\n",
        "    for epoch in range(epochs):\n",
        "        # Training phase\n",
        "        model.train()\n",
        "        correct_train = 0\n",
        "        total_train = 0\n",
        "        running_loss = 0.0\n",
        "\n",
        "        for images, labels in train_loader:\n",
        "            # Forward pass\n",
        "            outputs = model(images)\n",
        "            loss = criterion(outputs, labels)\n",
        "\n",
        "            # Backward pass and optimization\n",
        "            optimizer.zero_grad()\n",
        "            loss.backward()\n",
        "            optimizer.step()\n",
        "\n",
        "            # Update training metrics\n",
        "            running_loss += loss.item()\n",
        "            _, predicted = torch.max(outputs, 1)\n",
        "            correct_train += (predicted == labels).sum().item()\n",
        "            total_train += labels.size(0)\n",
        "\n",
        "        train_loss.append(running_loss / len(train_loader))\n",
        "        train_acc.append(correct_train / total_train)\n",
        "\n",
        "        # Validation phase\n",
        "        model.eval()\n",
        "        correct_val = 0\n",
        "        total_val = 0\n",
        "        val_running_loss = 0.0\n",
        "        with torch.no_grad():\n",
        "            for images, labels in val_loader:\n",
        "                outputs = model(images)\n",
        "                loss = criterion(outputs, labels)\n",
        "                val_running_loss += loss.item()\n",
        "\n",
        "                _, predicted = torch.max(outputs, 1)\n",
        "                correct_val += (predicted == labels).sum().item()\n",
        "                total_val += labels.size(0)\n",
        "\n",
        "        val_loss.append(val_running_loss / len(val_loader))\n",
        "        val_acc.append(correct_val / total_val)\n",
        "\n",
        "        print(f\"Epoch {epoch+1}/{epochs}, Train Loss: {train_loss[-1]:.4f}, Train Acc: {train_acc[-1]*100:.2f}%, \"\n",
        "              f\"Val Loss: {val_loss[-1]:.4f}, Val Acc: {val_acc[-1]*100:.2f}%\")\n",
        "\n",
        "    return train_loss, val_loss, train_acc, val_acc\n",
        "\n"
      ],
      "metadata": {
        "id": "7Cqx1jF7BwdO"
      },
      "execution_count": null,
      "outputs": []
    },
    {
      "cell_type": "code",
      "source": [
        "# Instantiate models\n",
        "model1 = Network1()  # Network 1 for 4 categories\n",
        "model2 = Network2()  # Network 2 for all 10 categories\n",
        "\n",
        "# Define loss function and optimizer\n",
        "criterion = nn.CrossEntropyLoss()\n",
        "optimizer1 = torch.optim.Adam(model1.parameters(), lr=0.001, weight_decay=1e-4)  # With L2 regularization\n",
        "optimizer2 = torch.optim.Adam(model2.parameters(), lr=0.001, weight_decay=1e-4)\n",
        "\n",
        "# Training parameters\n",
        "epochs = 20\n",
        "\n",
        "# Train both networks\n",
        "print(\"Training Network 1:\")\n",
        "train_loss1, val_loss1, train_acc1, val_acc1 = train_model(model1, train_loader_1, val_loader_1, optimizer1, criterion, epochs)\n",
        "\n",
        "print(\"\\nTraining Network 2:\")\n",
        "train_loss2, val_loss2, train_acc2, val_acc2 = train_model(model2, train_loader, val_loader, optimizer2, criterion, epochs)\n"
      ],
      "metadata": {
        "id": "RDUx55HjEcj8",
        "outputId": "21cef813-4624-4cc5-d98e-2227b1386377",
        "colab": {
          "base_uri": "https://localhost:8080/"
        }
      },
      "execution_count": null,
      "outputs": [
        {
          "output_type": "stream",
          "name": "stdout",
          "text": [
            "Training Network 1:\n",
            "Epoch 1/20, Train Loss: 0.2772, Train Acc: 90.68%, Val Loss: 0.2380, Val Acc: 91.33%\n",
            "Epoch 2/20, Train Loss: 0.1937, Train Acc: 93.46%, Val Loss: 0.1903, Val Acc: 93.35%\n",
            "Epoch 3/20, Train Loss: 0.1767, Train Acc: 93.97%, Val Loss: 0.1853, Val Acc: 93.08%\n",
            "Epoch 4/20, Train Loss: 0.1597, Train Acc: 94.56%, Val Loss: 0.1650, Val Acc: 94.29%\n",
            "Epoch 5/20, Train Loss: 0.1482, Train Acc: 94.90%, Val Loss: 0.1573, Val Acc: 94.58%\n",
            "Epoch 6/20, Train Loss: 0.1444, Train Acc: 95.09%, Val Loss: 0.1557, Val Acc: 94.64%\n",
            "Epoch 7/20, Train Loss: 0.1303, Train Acc: 95.64%, Val Loss: 0.1511, Val Acc: 94.50%\n",
            "Epoch 8/20, Train Loss: 0.1203, Train Acc: 95.80%, Val Loss: 0.1493, Val Acc: 94.66%\n",
            "Epoch 9/20, Train Loss: 0.1139, Train Acc: 96.16%, Val Loss: 0.1584, Val Acc: 94.37%\n",
            "Epoch 10/20, Train Loss: 0.1063, Train Acc: 96.34%, Val Loss: 0.1512, Val Acc: 94.68%\n",
            "Epoch 11/20, Train Loss: 0.1037, Train Acc: 96.48%, Val Loss: 0.1518, Val Acc: 94.64%\n",
            "Epoch 12/20, Train Loss: 0.0955, Train Acc: 96.77%, Val Loss: 0.1385, Val Acc: 95.20%\n",
            "Epoch 13/20, Train Loss: 0.0898, Train Acc: 97.02%, Val Loss: 0.1575, Val Acc: 94.72%\n",
            "Epoch 14/20, Train Loss: 0.0848, Train Acc: 97.20%, Val Loss: 0.1450, Val Acc: 95.30%\n",
            "Epoch 15/20, Train Loss: 0.0825, Train Acc: 97.34%, Val Loss: 0.1487, Val Acc: 94.99%\n",
            "Epoch 16/20, Train Loss: 0.0785, Train Acc: 97.38%, Val Loss: 0.1415, Val Acc: 95.26%\n",
            "Epoch 17/20, Train Loss: 0.0734, Train Acc: 97.49%, Val Loss: 0.1401, Val Acc: 95.30%\n",
            "Epoch 18/20, Train Loss: 0.0687, Train Acc: 97.62%, Val Loss: 0.1454, Val Acc: 95.24%\n",
            "Epoch 19/20, Train Loss: 0.0661, Train Acc: 97.81%, Val Loss: 0.1586, Val Acc: 94.80%\n",
            "Epoch 20/20, Train Loss: 0.0662, Train Acc: 97.83%, Val Loss: 0.1855, Val Acc: 94.33%\n",
            "\n",
            "Training Network 2:\n",
            "Epoch 1/20, Train Loss: 0.6246, Train Acc: 77.10%, Val Loss: 0.5044, Val Acc: 81.54%\n",
            "Epoch 2/20, Train Loss: 0.4238, Train Acc: 84.46%, Val Loss: 0.4110, Val Acc: 85.47%\n",
            "Epoch 3/20, Train Loss: 0.3837, Train Acc: 85.90%, Val Loss: 0.3925, Val Acc: 85.50%\n",
            "Epoch 4/20, Train Loss: 0.3599, Train Acc: 86.72%, Val Loss: 0.3714, Val Acc: 86.76%\n",
            "Epoch 5/20, Train Loss: 0.3398, Train Acc: 87.44%, Val Loss: 0.3598, Val Acc: 87.23%\n",
            "Epoch 6/20, Train Loss: 0.3261, Train Acc: 88.01%, Val Loss: 0.3614, Val Acc: 86.67%\n",
            "Epoch 7/20, Train Loss: 0.3169, Train Acc: 88.30%, Val Loss: 0.3518, Val Acc: 87.14%\n",
            "Epoch 8/20, Train Loss: 0.3016, Train Acc: 89.00%, Val Loss: 0.3457, Val Acc: 87.51%\n",
            "Epoch 9/20, Train Loss: 0.2940, Train Acc: 89.14%, Val Loss: 0.3484, Val Acc: 87.83%\n",
            "Epoch 10/20, Train Loss: 0.2892, Train Acc: 89.30%, Val Loss: 0.3483, Val Acc: 87.52%\n",
            "Epoch 11/20, Train Loss: 0.2792, Train Acc: 89.61%, Val Loss: 0.3490, Val Acc: 87.42%\n",
            "Epoch 12/20, Train Loss: 0.2740, Train Acc: 89.78%, Val Loss: 0.3462, Val Acc: 87.79%\n",
            "Epoch 13/20, Train Loss: 0.2647, Train Acc: 90.28%, Val Loss: 0.3496, Val Acc: 87.62%\n",
            "Epoch 14/20, Train Loss: 0.2621, Train Acc: 90.22%, Val Loss: 0.3711, Val Acc: 87.34%\n",
            "Epoch 15/20, Train Loss: 0.2569, Train Acc: 90.37%, Val Loss: 0.3231, Val Acc: 88.73%\n",
            "Epoch 16/20, Train Loss: 0.2477, Train Acc: 90.73%, Val Loss: 0.3331, Val Acc: 88.47%\n",
            "Epoch 17/20, Train Loss: 0.2441, Train Acc: 90.84%, Val Loss: 0.3456, Val Acc: 88.03%\n",
            "Epoch 18/20, Train Loss: 0.2430, Train Acc: 90.93%, Val Loss: 0.3704, Val Acc: 87.16%\n",
            "Epoch 19/20, Train Loss: 0.2356, Train Acc: 91.17%, Val Loss: 0.3425, Val Acc: 87.93%\n",
            "Epoch 20/20, Train Loss: 0.2331, Train Acc: 91.27%, Val Loss: 0.3590, Val Acc: 88.05%\n"
          ]
        }
      ]
    },
    {
      "cell_type": "markdown",
      "source": [
        "# Model evauluation :"
      ],
      "metadata": {
        "id": "M5RteG3P8T4r"
      }
    },
    {
      "cell_type": "code",
      "source": [
        "def evaluate_model(model, loader, criterion):\n",
        "    model.eval()\n",
        "    correct = 0\n",
        "    total = 0\n",
        "    running_loss = 0.0\n",
        "\n",
        "    with torch.no_grad():\n",
        "        for images, labels in loader:\n",
        "            outputs = model(images)\n",
        "            loss = criterion(outputs, labels)\n",
        "            running_loss += loss.item()\n",
        "\n",
        "            _, predicted = torch.max(outputs, 1)\n",
        "            correct += (predicted == labels).sum().item()\n",
        "            total += labels.size(0)\n",
        "\n",
        "    accuracy = correct / total\n",
        "    return running_loss / len(loader), accuracy\n",
        "\n"
      ],
      "metadata": {
        "id": "ebarCne8Jn-b"
      },
      "execution_count": null,
      "outputs": []
    },
    {
      "cell_type": "code",
      "source": [
        "# Evaluate Network 1\n",
        "test_loss1, test_acc1 = evaluate_model(model1, test_loader_1, criterion)\n",
        "print(f\"Network 1 - Test Loss: {test_loss1:.4f}, Test Accuracy: {test_acc1 * 100:.2f}%\")\n",
        "\n",
        "# Evaluate Network 2\n",
        "test_loss2, test_acc2 = evaluate_model(model2, test_loader, criterion)\n",
        "print(f\"Network 2 - Test Loss: {test_loss2:.4f}, Test Accuracy: {test_acc2 * 100:.2f}%\")\n"
      ],
      "metadata": {
        "id": "9_Mdou5-Jr_c",
        "outputId": "d81ca279-1c77-4b01-a0e5-971fe09d3392",
        "colab": {
          "base_uri": "https://localhost:8080/"
        }
      },
      "execution_count": null,
      "outputs": [
        {
          "output_type": "stream",
          "name": "stdout",
          "text": [
            "Network 1 - Test Loss: 0.1995, Test Accuracy: 93.95%\n",
            "Network 2 - Test Loss: 0.3864, Test Accuracy: 86.95%\n"
          ]
        }
      ]
    },
    {
      "cell_type": "markdown",
      "source": [
        "# Plot the Losses and Accuracy:"
      ],
      "metadata": {
        "id": "2e9ELovo8Zj0"
      }
    },
    {
      "cell_type": "code",
      "source": [
        "import matplotlib.pyplot as plt\n",
        "\n",
        "# Plot Loss\n",
        "plt.figure(figsize=(10, 5))\n",
        "plt.plot(train_loss1, label='Network 1 Train Loss')\n",
        "plt.plot(val_loss1, label='Network 1 Val Loss')\n",
        "plt.plot(train_loss2, label='Network 2 Train Loss')\n",
        "plt.plot(val_loss2, label='Network 2 Val Loss')\n",
        "plt.title('Training and Validation Loss')\n",
        "plt.xlabel('Epochs')\n",
        "plt.ylabel('Loss')\n",
        "plt.legend()\n",
        "plt.grid()\n",
        "plt.show()\n",
        "\n",
        "# Plot Accuracy\n",
        "plt.figure(figsize=(10, 5))\n",
        "plt.plot(train_acc1, label='Network 1 Train Accuracy')\n",
        "plt.plot(val_acc1, label='Network 1 Val Accuracy')\n",
        "plt.plot(train_acc2, label='Network 2 Train Accuracy')\n",
        "plt.plot(val_acc2, label='Network 2 Val Accuracy')\n",
        "plt.title('Training and Validation Accuracy')\n",
        "plt.xlabel('Epochs')\n",
        "plt.ylabel('Accuracy')\n",
        "plt.legend()\n",
        "plt.grid()\n",
        "plt.show()\n"
      ],
      "metadata": {
        "id": "CmeD3OZRJ8qm",
        "outputId": "83ec2ebb-59e0-4f7e-c2f7-a7e8ba9391af",
        "colab": {
          "base_uri": "https://localhost:8080/",
          "height": 957
        }
      },
      "execution_count": null,
      "outputs": [
        {
          "output_type": "display_data",
          "data": {
            "text/plain": [
              "<Figure size 1000x500 with 1 Axes>"
            ],
            "image/png": "[encoded data removed]"
          },
          "metadata": {}
        },
        {
          "output_type": "display_data",
          "data": {
            "text/plain": [
              "<Figure size 1000x500 with 1 Axes>"
            ],
            "image/png": "[encoded data removed]"
          },
          "metadata": {}
        }
      ]
    }
  ],
  "metadata": {
    "colab": {
      "provenance": [],
      "include_colab_link": true
    },
    "kernelspec": {
      "display_name": "Python 3",
      "language": "python",
      "name": "python3"
    },
    "language_info": {
      "codemirror_mode": {
        "name": "ipython",
        "version": 3
      },
      "file_extension": ".py",
      "mimetype": "text/x-python",
      "name": "python",
      "nbconvert_exporter": "python",
      "pygments_lexer": "ipython3",
      "version": "3.12.0"
    }
  },
  "nbformat": 4,
  "nbformat_minor": 0
}